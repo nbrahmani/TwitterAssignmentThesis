{
 "cells": [
  {
   "cell_type": "markdown",
   "metadata": {},
   "source": [
    "## Assignment: Engagement changes on Twitter (X)"
   ]
  },
  {
   "cell_type": "markdown",
   "metadata": {},
   "source": [
    "Since there's no access to the algorithms of most online platforms or accurate information about changes to the algorithms or policy, researchers use observable metrics as a proxy to reverse engineer the changes and understand their impact. One such way is to analyse shifts in engagement across multiple accounts and identify signals that may reflect underlying algorithmic or systemic changes.\n",
    "\n",
<<<<<<< HEAD
    "In this assignment, you will analyse the tweets of 37 political accounts from the United States, posted between 2023 and 2024. The goal is to detect if there are any algorithmic changes during this time. We do this by detecting shifts in engagement metrics of these accounts. Furthermore, we will analyse if the changes in engagement are different for Democrats and Republicans, i.e, has any group benefitted due to the changes in the algorithm."
=======
    "In this assignment, you will analyse the tweets of 37 political accounts from the United States, posted between 2023 and 2024. The goal is to detect if there are any algorithmic changes during this time. We do this by detecting shifts in engagement metrics of these accounts. Furthermore, we will analyse if the changes in engagement are different for Democrats and Republicans, i.e, has any group benefitted due to the changes in the algorithm.\n",
    "\n",
>>>>>>> 6da2de91d31e0e400c0cb922449da30c26565733
   ]
  },
  {
   "cell_type": "markdown",
   "metadata": {},
   "source": [
    "Data:\n",
    "\n",
    "* You are provided with the following json files.\n",
    "    * politcians_twitter_data: This file contains a nested dictionary for each account ID with tweet-level metrics such as tweet id, tweet creation time, and engagement metrics.\n",
    "    * politcians_parties_map: This file contains which party (Democrat or Republican) the political account is affiliated with.\n",
    "    * politcians_name_twitterid_map: This file contains the mapping between the twitter account ID and the name of the political figure."
   ]
  },
  {
   "cell_type": "markdown",
   "metadata": {},
   "source": [
    "Tasks:\n",
    "\n",
    "* For the purpose of this assignment, we will only analyse 'favorite count' (the number of likes each tweet gets).\n",
    "* To identify significant shifts in engagement over time, we will apply a Cumulative Sum (CUSUM) analysis to detect deviations from the average value over time. If there are common timestamps where we observe shifts across many accounts, this could indicate changes in engagement due to algorithmic modifications.\n",
    "    * To do this, use the ruptures library and apply the Binary Segmentation (Binseg) algorithm on all accounts to identify two change points (timestamps where deviation is detected).\n",
    "        * Note: You should truncate them to month–year before comparing or grouping. For example, “11 May 2024, 10:35:00” becomes simply May 2024.\n",
    "    * Now pick the top two change points-- When identifying the top two change points, measure deviation by the number of accounts that exhibit a change at the same month–year. In other words, select the two month–year points where the largest number of accounts show a detected shift.\n",
    "* Now that we identified the accounts which had deviations at similar change points, for each change point, using accounts which saw deviation at this point:\n",
    "    * Get the before and after values of the favorite counts using the change point.\n",
    "        * Use 01-month-date as the cutoff date. Ex: If the change point is May 2024, then all tweets before 1 May 2024 are “before,” and all tweets from 1 May 2024 onward are “after.”\n",
    "    * Analyse these before and after values to see if the before values are significantly lesser than the after values. \n",
    "    * Hint: Use non-parametric statistical test like Mann-Whitney.\n",
    "* Once you obtain the p-values, split the users into Republicans and Democrats to investigate whether there are group benefitted due to the changes."
   ]
  },
  {
   "cell_type": "markdown",
   "metadata": {},
   "source": [
    "Based on your analysis, can you reach the following conclusions? Why or why not? What other data would you need to reach that conclusion? Mention any assumptions you make. (Answer these in a markdown field in your notebook).\n",
    "\n",
    "* There were some changes to the algorithm which resulted in the differences in engagement metrics (atleast for one change point).\n",
    "* The observed changes are solely due to algorithmic modifications.\n",
    "* The differences (if any) between Republicans and Democrats show that the particular group benefitted (or impacted negatively) due to the algorithmic changes.\n",
    "\n",
    "Additionally,\n",
    "\n",
    "* Do you think the methodology used was correct? Why or why not?\n",
    "* How would you change the methodology?"
   ]
  },
  {
   "cell_type": "markdown",
   "metadata": {},
   "source": [
    "### Submission\n",
    "\n",
    "Complete all tasks and written answers directly in this notebook. Make sure that:\n",
    "* Your code cells are runnable and your markdown cells are clear.\n",
    "* All outputs are included in the notebook.\n",
    "* When finished, send the .ipynb file back."
   ]
  },
  {
   "cell_type": "markdown",
   "metadata": {},
   "source": [
    "#### Solution"
   ]
  },
  {
   "cell_type": "code",
   "execution_count": 1,
   "metadata": {},
   "outputs": [],
   "source": [
    "import json\n",
    "import pandas as pd\n",
    "import ruptures as rpt\n",
    "from datetime import datetime\n",
    "from scipy.stats import mannwhitneyu"
   ]
  },
  {
   "cell_type": "code",
   "execution_count": 2,
   "metadata": {},
   "outputs": [],
   "source": [
    "# This function takes in tweet data for a politician, the number of breakpoints to detect and the metric\n",
    "# to analyze and returns the timestamps where the value of the metric changes from that of the mean.\n",
    "\n",
    "def apply_cusum(tweet_data, n_bkps, metric, boundary=\"start\"):\n",
    "\n",
    "    df = pd.DataFrame.from_dict(tweet_data, orient=\"index\").reset_index().rename(columns={\"index\": \"tweet_id\"})\n",
    "    if 'created_at' not in df.columns or metric not in df.columns:\n",
    "        return []\n",
    "    else:\n",
    "        df[\"created_at\"] = pd.to_datetime(df[\"created_at\"], format=\"%a %b %d %H:%M:%S %z %Y\")\n",
    "\n",
    "        if metric == 'view_count':\n",
    "            df = df[df[metric] != -1]\n",
    "\n",
    "        df = df.sort_values(\"created_at\").reset_index(drop=True)\n",
    "\n",
    "        values = df[metric].to_numpy()\n",
    "        times = df[\"created_at\"].to_numpy()\n",
    "\n",
    "        algo = rpt.Binseg(model=\"l2\").fit(values)\n",
    "        bkps = algo.predict(n_bkps=n_bkps)\n",
    "        cp = bkps[:-1]                    \n",
    "\n",
    "        if boundary == \"start\":\n",
    "            idx = cp                       \n",
    "        elif boundary == \"end\":\n",
    "            idx = [i-1 for i in cp]      \n",
    "\n",
    "        return [times[i] for i in idx]\n",
    "    \n",
    "\n",
    "# this function takes in tweet data, ID of the account, a metric and a change date to return the before and after values\n",
    "\n",
    "def get_before_after_values(tweet_data, polid, metric, change_date):\n",
    "\n",
    "    before_values = []\n",
    "    after_values = []\n",
    "\n",
    "    for tweet, data in tweet_data[polid].items():\n",
    "        created_at = data['created_at']\n",
    "        created_at = datetime.strptime(created_at, \"%a %b %d %H:%M:%S %z %Y\")\n",
    "\n",
    "        cyear, cmonth, cdate = change_date[0], change_date[1], change_date[2]\n",
    "        if created_at < datetime(cyear, cmonth, cdate, tzinfo=created_at.tzinfo):\n",
    "            before_values.append(data[metric])\n",
    "\n",
    "        elif created_at >= datetime(cyear, cmonth, cdate, tzinfo=created_at.tzinfo):\n",
    "            after_values.append(data[metric])\n",
    "\n",
    "    return before_values, after_values"
   ]
  },
  {
   "cell_type": "markdown",
   "metadata": {},
   "source": [
    "#### Define data paths "
   ]
  },
  {
   "cell_type": "code",
   "execution_count": 3,
   "metadata": {},
   "outputs": [],
   "source": [
    "politicians_twitter_datapath = '/Users/brahmaninutakki/saarland/twitter_extension/coding_ass/data/politcians_twitter_data.json'\n",
    "politicians_parties_map_datapath = '/Users/brahmaninutakki/saarland/twitter_extension/coding_ass/data/politcians_parties_map.json'\n",
    "politicians_twitter_id_name_datapath = '/Users/brahmaninutakki/saarland/twitter_extension/coding_ass/data/politcians_name_twitterid_map.json'"
   ]
  },
  {
   "cell_type": "markdown",
   "metadata": {},
   "source": [
    "#### Load data"
   ]
  },
  {
   "cell_type": "code",
   "execution_count": 4,
   "metadata": {},
   "outputs": [],
   "source": [
    "with open(politicians_twitter_datapath, 'r') as f:\n",
    "    politicians_tweets = json.load(f)\n",
    "\n",
    "with open(politicians_parties_map_datapath, 'r') as f:\n",
    "    politicians_parties_map = json.load(f)\n",
    "\n",
    "with open(politicians_twitter_id_name_datapath, 'r') as f:\n",
    "    politicians_name_twitterid_map = json.load(f)"
   ]
  },
  {
   "cell_type": "markdown",
   "metadata": {},
   "source": [
    "#### Check if the three files have the same length"
   ]
  },
  {
   "cell_type": "code",
   "execution_count": 5,
   "metadata": {},
   "outputs": [
    {
     "data": {
      "text/plain": [
       "True"
      ]
     },
     "execution_count": 5,
     "metadata": {},
     "output_type": "execute_result"
    }
   ],
   "source": [
    "len(politicians_tweets) == len(politicians_parties_map) == len(politicians_name_twitterid_map)"
   ]
  },
  {
   "cell_type": "markdown",
   "metadata": {},
   "source": [
    "#### Get mapping from ID to name from name to ID"
   ]
  },
  {
   "cell_type": "code",
   "execution_count": 6,
   "metadata": {},
   "outputs": [],
   "source": [
    "politicians_twitter_id_name_map = {v: k for k, v in politicians_name_twitterid_map.items()}"
   ]
  },
  {
   "cell_type": "markdown",
   "metadata": {},
   "source": [
    "#### Identify top two change points using CUSUM"
   ]
  },
  {
   "cell_type": "code",
   "execution_count": 7,
   "metadata": {},
   "outputs": [
    {
     "data": {
      "text/plain": [
       "{'11-2024': ['AdamKinzinger',\n",
       "  'AdamKinzinger',\n",
       "  'mattgaetz',\n",
       "  'mattgaetz',\n",
       "  'laurenboebert',\n",
       "  'tedcruz',\n",
       "  'tedcruz',\n",
       "  'AndrewYang',\n",
       "  'AndrewYang',\n",
       "  'mtgreenee',\n",
       "  'mtgreenee',\n",
       "  'JDVance',\n",
       "  'KariLake',\n",
       "  'KariLake',\n",
       "  'LindseyGrahamSC',\n",
       "  'GovMikeHuckabee',\n",
       "  'GovMikeHuckabee',\n",
       "  'KamalaHarris',\n",
       "  'Sen_JoeManchin',\n",
       "  'Sen_JoeManchin',\n",
       "  'RandPaul',\n",
       "  'RandPaul',\n",
       "  'timkaine',\n",
       "  'timkaine',\n",
       "  'MeghanMcCain',\n",
       "  'SenatorDurbin',\n",
       "  'SenatorDurbin',\n",
       "  'lisamurkowski',\n",
       "  'SenRickScott',\n",
       "  'SenRickScott',\n",
       "  'realDonaldTrump',\n",
       "  'Tim_Walz',\n",
       "  'GregAbbott_TX',\n",
       "  'GregAbbott_TX',\n",
       "  'JulianCastro'],\n",
       " '07-2024': ['GabbyGiffords',\n",
       "  'CoryBooker',\n",
       "  'CoryBooker',\n",
       "  'laurenboebert',\n",
       "  'Jim_Jordan',\n",
       "  'Jim_Jordan',\n",
       "  'RashidaTlaib',\n",
       "  'RashidaTlaib',\n",
       "  'Mike_Pence',\n",
       "  'Mike_Pence',\n",
       "  'JDVance',\n",
       "  'SarahPalinUSA',\n",
       "  'SarahPalinUSA',\n",
       "  'PeteButtigieg',\n",
       "  'PeteButtigieg',\n",
       "  'DouglasEmhoff',\n",
       "  'DouglasEmhoff',\n",
       "  'JoshShapiroPA',\n",
       "  'newtgingrich',\n",
       "  'newtgingrich',\n",
       "  'JoeBiden',\n",
       "  'JoeBiden',\n",
       "  'GavinNewsom',\n",
       "  'GavinNewsom',\n",
       "  'votetimscott',\n",
       "  'votetimscott',\n",
       "  'RealPNavarro',\n",
       "  'RealPNavarro',\n",
       "  'Tim_Walz',\n",
       "  'SenTomCotton',\n",
       "  'SenTomCotton'],\n",
       " '12-2024': ['LindseyGrahamSC', 'MeghanMcCain', 'lisamurkowski'],\n",
       " '08-2024': ['GabbyGiffords', 'JoshShapiroPA'],\n",
       " '10-2024': ['KamalaHarris', 'JulianCastro'],\n",
       " '01-2021': ['realDonaldTrump']}"
      ]
     },
     "execution_count": 7,
     "metadata": {},
     "output_type": "execute_result"
    }
   ],
   "source": [
    "change_dates_group = {}\n",
    "for pol, data in politicians_tweets.items():\n",
    "    cdates = apply_cusum(data, n_bkps=2, metric='favorite_count', boundary=\"start\")\n",
    "    if len(cdates) > 0:\n",
    "        for dt in cdates:\n",
    "            cdate = dt.strftime(\"%m-%Y\")\n",
    "            if cdate not in change_dates_group:\n",
    "                change_dates_group[cdate] = []\n",
    "            change_dates_group[cdate].append(politicians_twitter_id_name_map[pol])\n",
    "\n",
    "change_dates_group = dict(sorted(change_dates_group.items(), key=lambda x: len(x[1]), reverse=True))\n",
    "change_dates_group"
   ]
  },
  {
   "cell_type": "code",
   "execution_count": 8,
   "metadata": {},
   "outputs": [
    {
     "data": {
      "text/plain": [
       "['11-2024', '07-2024']"
      ]
     },
     "execution_count": 8,
     "metadata": {},
     "output_type": "execute_result"
    }
   ],
   "source": [
    "top_2_change_dates = list(change_dates_group.keys())[:2]\n",
    "top_2_change_dates"
   ]
  },
  {
   "cell_type": "markdown",
   "metadata": {},
   "source": [
    "#### Check significance of change in metrics before and after the change point using Mann-Whitney"
   ]
  },
  {
   "cell_type": "code",
   "execution_count": 15,
   "metadata": {},
   "outputs": [
    {
     "name": "stdout",
     "output_type": "stream",
     "text": [
      "laurenboebert 0.04578312730639133\n",
      "JDVance 0.0003027876219376651\n",
      "mattgaetz 1.6187634223315738e-26\n",
      "mtgreenee 0.047151923321723986\n",
      "SenRickScott 1.3322764081517782e-64\n",
      "timkaine 0.04735438326376074\n",
      "Sen_JoeManchin 0.000354439011594726\n",
      "LindseyGrahamSC 0.00040795032249735984\n",
      "JulianCastro 0.02481185420697213\n",
      "GregAbbott_TX 0.005468097436405636\n",
      "GovMikeHuckabee 0.0018251604682757215\n",
      "lisamurkowski 9.957736004634899e-05\n",
      "realDonaldTrump 1.1527676016556278e-05\n",
      "SenatorDurbin 0.009607511533179808\n",
      "AndrewYang 1.630557230055933e-13\n",
      "-----\n",
      "SenTomCotton 0.00015318712650687358\n",
      "JoshShapiroPA 1.6351673879945593e-14\n",
      "laurenboebert 0.0002216838657859781\n",
      "CoryBooker 0.024157193419118272\n",
      "GabbyGiffords 4.644993727337941e-06\n",
      "JDVance 1.514145528542894e-38\n",
      "Tim_Walz 8.58741190660804e-47\n",
      "Jim_Jordan 0.00013497309007138897\n",
      "SarahPalinUSA 2.267062779659358e-15\n",
      "DouglasEmhoff 1.391357892385194e-07\n",
      "JoeBiden 0.039590770652910494\n",
      "PeteButtigieg 2.5550428340331122e-15\n",
      "-----\n"
     ]
    }
   ],
   "source": [
    "for cdate in top_2_change_dates:\n",
    "    month, year = map(int, cdate.split('-'))\n",
    "    change_date = (year, month, 15)  \n",
    "\n",
    "    politicians_list = change_dates_group[cdate]\n",
    "    politicians_list = list(set(politicians_list))\n",
    "\n",
    "    for pol in politicians_list:\n",
    "        polid = politicians_name_twitterid_map[pol]\n",
    "        before_values, after_values = get_before_after_values(politicians_tweets, polid, 'favorite_count', change_date)\n",
    "\n",
    "        if len(before_values) > 0 and len(after_values) > 0:\n",
    "            s, p = mannwhitneyu(before_values, after_values, alternative='less')\n",
    "\n",
    "            if p < 0.05:\n",
    "                print(pol, p)\n",
    "\n",
    "    print(\"-----\")"
   ]
  },
  {
   "cell_type": "markdown",
   "metadata": {},
   "source": [
    "#### See if there are more republicans or democrats who show significant change"
   ]
  },
  {
   "cell_type": "code",
   "execution_count": 10,
   "metadata": {},
   "outputs": [
    {
     "name": "stdout",
     "output_type": "stream",
     "text": [
      "Change Date: 11-2024, Republicans: 24, Democrats: 9\n",
      "Change Date: 07-2024, Republicans: 16, Democrats: 15\n"
     ]
    }
   ],
   "source": [
    "for k, v in change_dates_group.items():\n",
    "    if k not in top_2_change_dates:\n",
    "        continue\n",
    "    rcount, dcount = 0, 0\n",
    "\n",
    "    for pol in v:\n",
    "        if politicians_parties_map[pol] == 'Republican':\n",
    "            rcount += 1\n",
    "        elif politicians_parties_map[pol] == 'Democrat':\n",
    "            dcount += 1\n",
    "    \n",
    "    print(f'Change Date: {k}, Republicans: {rcount}, Democrats: {dcount}')"
   ]
  }
 ],
 "metadata": {
  "kernelspec": {
   "display_name": "tw_env",
   "language": "python",
   "name": "python3"
  },
  "language_info": {
   "codemirror_mode": {
    "name": "ipython",
    "version": 3
   },
   "file_extension": ".py",
   "mimetype": "text/x-python",
   "name": "python",
   "nbconvert_exporter": "python",
   "pygments_lexer": "ipython3",
   "version": "3.11.5"
  }
 },
 "nbformat": 4,
 "nbformat_minor": 2
}
